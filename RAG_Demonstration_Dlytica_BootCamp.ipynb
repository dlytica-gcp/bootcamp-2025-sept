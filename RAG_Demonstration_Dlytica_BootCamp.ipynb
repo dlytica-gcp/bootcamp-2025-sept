{
  "cells": [
    {
      "cell_type": "markdown",
      "metadata": {
        "id": "view-in-github",
        "colab_type": "text"
      },
      "source": [
        "<a href=\"https://colab.research.google.com/github/dlytica-gcp/bootcamp-2025-sept/blob/main/RAG_Demonstration_Dlytica_BootCamp.ipynb\" target=\"_parent\"><img src=\"https://colab.research.google.com/assets/colab-badge.svg\" alt=\"Open In Colab\"/></a>"
      ]
    },
    {
      "cell_type": "code",
      "source": [
        "# Attempting to fix ValueError: numpy.dtype size changed by pinning versions\n",
        "# You might need to adjust these versions based on your environment and other library requirements.\n",
        "\n",
        "import os\n",
        "import openai\n",
        "from google.colab import userdata\n",
        "\n",
        "# Set up the OpenRouter API key using Colab secrets\n",
        "os.environ[\"OPENROUTER_API_KEY\"] = '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'\n",
        "openai.api_base = \"https://openrouter.ai/api/v1\"\n",
        "# openai.api_key = os.environ[\"OPENROUTER_API_KEY\"] # This is deprecated in openai>=1.0.0\n"
      ],
      "metadata": {
        "id": "p-Vs2zBiiL-I"
      },
      "execution_count": null,
      "outputs": []
    },
    {
      "cell_type": "markdown",
      "source": [
        "**Simple LLM Demo**"
      ],
      "metadata": {
        "id": "N8-hr3o-uqis"
      }
    },
    {
      "cell_type": "code",
      "source": [
        "def simple_llm_example(query):\n",
        "\n",
        "    prompt = f\"\"\"\n",
        "    You are a travel suggestor.\n",
        "    The user has asked about: \"{query}\"\n",
        "\n",
        "    Task: Analyze this place and provide the response in the following structured format:\n",
        "    pros :\n",
        "    cons:\n",
        "    \"\"\"\n",
        "\n",
        "    try:\n",
        "        # Initialize the OpenAI client with the OpenRouter API base and key\n",
        "        client = openai.OpenAI(\n",
        "            base_url=openai.api_base,\n",
        "            api_key=os.environ[\"OPENROUTER_API_KEY\"],\n",
        "        )\n",
        "\n",
        "        response = client.chat.completions.create(\n",
        "            model=\"openrouter/auto\",  # Let OpenRouter auto-select\n",
        "            messages=[\n",
        "                {\"role\": \"system\", \"content\": \"You are a helpful travel assistant.\"},\n",
        "                {\"role\": \"user\", \"content\": prompt}\n",
        "            ],\n",
        "            max_tokens=200,  # Increased slightly for richer responses\n",
        "        )\n",
        "        return response.choices[0].message.content.strip()\n",
        "    except Exception as e:\n",
        "        return f\"An error occurred: {e}\"\n",
        "\n",
        "# Example usage:\n",
        "query = \"I am travelling to Nepal\"\n",
        "answer = simple_llm_example(query)\n",
        "print(answer)\n"
      ],
      "metadata": {
        "colab": {
          "base_uri": "https://localhost:8080/"
        },
        "id": "UoTSaYIehr1k",
        "outputId": "d3f76c85-befa-47eb-f7d7-0dc3b9d92bdc"
      },
      "execution_count": null,
      "outputs": [
        {
          "output_type": "stream",
          "name": "stdout",
          "text": [
            "pros:  \n",
            "- Stunning Natural Beauty: Home to the Himalayas, including Mount Everest, Nepal offers breathtaking mountain landscapes, lush valleys, and serene lakes.  \n",
            "- Rich Cultural Heritage: Nepal boasts a diverse cultural tapestry, including ancient temples, UNESCO World Heritage Sites, and traditional festivals.  \n",
            "- Outdoor Adventure Opportunities: Trekking, mountaineering, rafting, and paragliding are just some of the thrilling activities available.  \n",
            "- Friendly Locals: Nepalese people are known for their warmth and hospitality toward tourists.  \n",
            "- Affordable Travel: Compared to many other travel destinations, Nepal is budget-friendly in terms of accommodation, food, and local transportation.  \n",
            "\n",
            "cons:  \n",
            "- Limited Infrastructure: While improving, roads and transportation networks in remote areas can be underdeveloped and challenging.  \n",
            "- Risk of Natural Disasters: Nepal is prone to earthquakes and landslides, especially in monsoon season (June–September).  \n",
            "- Altitude Sickness: High-altitude trekking routes can pose health\n"
          ]
        }
      ]
    },
    {
      "cell_type": "markdown",
      "source": [
        "**RAG Context**\n",
        "\n",
        "\n",
        "\n"
      ],
      "metadata": {
        "id": "DMjnvDUsuwIw"
      }
    },
    {
      "cell_type": "code",
      "source": [
        "\n",
        "# Simple RAG \"hello world\" example\n",
        "# This is a very basic example and doesn't include actual retrieval.\n",
        "# In a real RAG application, you would retrieve relevant information\n",
        "# based on the query and include it in the prompt.\n",
        "\n",
        "def simple_rag_example(query):\n",
        "  \"\"\"A very basic RAG-like function (without actual retrieval).\"\"\"\n",
        "  context = [\n",
        "    \"Nepal is a landlocked South Asian country between India and China, famous for the Himalayas including Mount Everest. Kathmandu is the capital, known for heritage sites like Pashupatinath Temple and Boudhanath Stupa. Nepal transitioned to a federal democratic republic in 2008, and its economy relies on agriculture and tourism, recently there was protest so be safe\",\n",
        "\n",
        "    \"India, the world’s largest democracy, gained independence on 15 August 1947 from British colonial rule. With over 1.4 billion people, it is diverse in language, culture, and religion. Its economy is driven by IT services, agriculture, and manufacturing. India is globally known for yoga, Bollywood, the Taj Mahal, and festivals like Diwali and Holi.\",\n",
        "\n",
        "    \"The United States of America (USA) consists of 50 states with Washington, D.C. as its capital. It declared independence on 4 July 1776. The USA is the world’s largest economy, leading in technology, defense, and culture. It is known for Silicon Valley, Hollywood, New York’s financial district, and NASA’s space exploration programs.\",\n",
        "\n",
        "    \"Canada is the second-largest country in the world by land area, with Ottawa as its capital. It became a confederation on 1 July 1867. Canada has a resource-rich economy focused on energy, mining, forestry, and technology. Known for multiculturalism, cities like Toronto, Vancouver, and Montreal showcase its diversity, while its landscapes include mountains, lakes, and forests.\"\n",
        "]\n",
        "\n",
        "  prompt = f\"\"\"Based on the following context only if you don't have data just say, i don't have context, answer in format:\n",
        "   Pros: , \\n and Cons: ,the question in:\\n\\nContext: {context}\\n\\nQuestion: {query}\"\"\"\n",
        "\n",
        "  try:\n",
        "    # Initialize the OpenAI client with the OpenRouter API base and key\n",
        "    client = openai.OpenAI(\n",
        "        base_url=openai.api_base,\n",
        "        api_key=os.environ[\"OPENROUTER_API_KEY\"],\n",
        "    )\n",
        "\n",
        "    response = client.chat.completions.create(\n",
        "        model=\"openrouter/auto\", # Using auto model to let OpenRouter select the best model\n",
        "        messages=[\n",
        "            {\"role\": \"user\", \"content\": prompt}\n",
        "        ],\n",
        "        max_tokens=100 # Add max_tokens parameter to limit the response size\n",
        "    )\n",
        "    return response.choices[0].message.content.strip()\n",
        "  except Exception as e:\n",
        "    return f\"An error occurred: {e}\"\n",
        "\n",
        "# Example usage:\n",
        "query = \"is kathmandu good to travel  ?\"\n",
        "answer = simple_rag_example(query)\n",
        "print(answer)"
      ],
      "metadata": {
        "colab": {
          "base_uri": "https://localhost:8080/"
        },
        "id": "wNhcE88Phrx9",
        "outputId": "dbe85d66-c79b-4da7-9938-cc86b9d79001"
      },
      "execution_count": null,
      "outputs": [
        {
          "output_type": "stream",
          "name": "stdout",
          "text": [
            "Pros:\n",
            "\n",
            "- Rich Cultural Heritage: Kathmandu is renowned for its historic sites like Pashupatinath Temple and Boudhanath Stupa, making it a culturally rewarding travel destination.\n",
            "\n",
            "- Gateway to the Himalayas: Being close to Mount Everest and other Himalayan peaks, it is a hub for trekking and adventure tourism.\n",
            "\n",
            "- Unique Architecture and Spiritual Significance: The city offers a mix of ancient temples, stupas, and vibrant local life.\n",
            "\n",
            "Cons:\n",
            "\n",
            "- Recent Protests: The presence of recent\n"
          ]
        }
      ]
    },
    {
      "cell_type": "markdown",
      "source": [
        "**Adding Embeeding and Vectordb to minimize the token**"
      ],
      "metadata": {
        "id": "OlXu5YcOu6aD"
      }
    },
    {
      "cell_type": "code",
      "source": [
        "# --- deps (colab) ---\n",
        "# !pip install -U sentence-transformers faiss-cpu openai\n",
        "\n",
        "import os\n",
        "import faiss\n",
        "import numpy as np\n",
        "from sentence_transformers import SentenceTransformer\n",
        "from openai import OpenAI\n",
        "\n",
        "# ----------------------------\n",
        "# 1) Corpus (same as your code)\n",
        "# ----------------------------\n",
        "CORPUS = [\n",
        "    \"Nepal is a landlocked South Asian country, famous for the Himalayas including Mount Everest. Kathmandu is the capital, known for heritage sites like Pashupatinath Temple and Boudhanath Stupa. Nepal transitioned to a federal democratic republic in 2008, and its economy relies on agriculture and tourism, recently there was protest so be safe\",\n",
        "    \"India, the world’s largest democracy, gained independence on 15 August 1947 from British colonial rule. With over 1.4 billion people, it is diverse in language, culture, and religion. Its economy is driven by IT services, agriculture, and manufacturing. India is globally known for yoga, Bollywood, the Taj Mahal, and festivals like Diwali and Holi.\",\n",
        "    \"The United States of America (USA) consists of 50 states with Washington, D.C. as its capital. It declared independence on 4 July 1776. The USA is the world’s largest economy, leading in technology, defense, and culture. It is known for Silicon Valley, Hollywood, New York’s financial district, and NASA’s space exploration programs.\",\n",
        "    \"Canada is the second-largest country in the world by land area, with Ottawa as its capital. It became a confederation on 1 July 1867. Canada has a resource-rich economy focused on energy, mining, forestry, and technology. Known for multiculturalism, cities like Toronto, Vancouver, and Montreal showcase its diversity, while its landscapes include mountains, lakes, and forests.\"\n",
        "]\n",
        "\n",
        "# --------------------------------------\n",
        "# 2) Build SentenceTransformer + FAISS\n",
        "# --------------------------------------\n",
        "_model = SentenceTransformer(\"all-MiniLM-L6-v2\")  # 384-dim, fast\n",
        "_doc_embs = _model.encode(CORPUS, convert_to_numpy=True, normalize_embeddings=True).astype(np.float32)\n",
        "_index = faiss.IndexFlatIP(_doc_embs.shape[1])   # cosine via normalized inner product\n",
        "_index.add(_doc_embs)\n",
        "\n",
        "def _retrieve(query: str, k: int = 2):\n",
        "    q = _model.encode([query], convert_to_numpy=True, normalize_embeddings=True).astype(np.float32)\n",
        "    scores, idxs = _index.search(q, k)\n",
        "    return [(float(scores[0, i]), CORPUS[idxs[0, i]]) for i in range(len(idxs[0]))]\n",
        "\n",
        "# --------------------------------------\n",
        "# 3) OpenRouter client (LLM generation)\n",
        "# --------------------------------------\n",
        "# Make sure OPENROUTER_API_KEY is set in your env.\n",
        "_client = OpenAI(\n",
        "    base_url=\"https://openrouter.ai/api/v1\",\n",
        "    api_key=os.environ[\"OPENROUTER_API_KEY\"],\n",
        "    # These headers help some OpenRouter providers\n",
        "    default_headers={\n",
        "        \"HTTP-Referer\": \"https://localhost\",\n",
        "        \"X-Title\": \"RAG-Demo\",\n",
        "    },\n",
        ")\n",
        "CHAT_MODEL = \"openrouter/auto\"\n",
        "\n",
        "# --------------------------------------\n",
        "# 4) Vector-based RAG function\n",
        "# --------------------------------------\n",
        "def simple_rag_example(query, top_k=1, max_tokens=160):\n",
        "    \"\"\"Vector-based RAG: retrieve top-k with FAISS, then ask the LLM on retrieved context only.\"\"\"\n",
        "    hits = _retrieve(query, k=top_k)\n",
        "    retrieved_context = \"\\n\\n---\\n\\n\".join([doc for _, doc in hits]) if hits else \"\"\n",
        "    print(retrieved_context)\n",
        "    prompt = f\"\"\"Based only on the following context, answer in this exact format:\n",
        "Pros: <comma-separated key positives>\n",
        "Cons: <comma-separated key negatives>\n",
        "\n",
        "If you don't find enough info, say \"i don't have context\".\n",
        "\n",
        "Context:\n",
        "{retrieved_context if retrieved_context else \"(none)\"}\n",
        "\n",
        "Question: {query}\n",
        "\"\"\"\n",
        "\n",
        "    # Call LLM via OpenRouter\n",
        "    try:\n",
        "        resp = _client.chat.completions.create(\n",
        "            model=CHAT_MODEL,\n",
        "            messages=[{\"role\": \"user\", \"content\": prompt}],\n",
        "            max_tokens=max_tokens,\n",
        "        )\n",
        "        return resp.choices[0].message.content.strip()\n",
        "    except Exception as e:\n",
        "        # Fall back to a non-LLM summary if the API fails\n",
        "        if not hits:\n",
        "            return \"i don't have context\"\n",
        "        return f\"Pros: retrieved {len(hits)} similar passages\\nCons: LLM call failed: {e}\"\n",
        "\n",
        "# -------------------------\n",
        "# 5) Example usage\n",
        "# -------------------------\n",
        "if __name__ == \"__main__\":\n",
        "    query = \"Nepal ?\"\n",
        "    answer = simple_rag_example(query)\n",
        "    print(answer)\n"
      ],
      "metadata": {
        "colab": {
          "base_uri": "https://localhost:8080/"
        },
        "id": "lORR4XyRe9Or",
        "outputId": "901b005d-8aa5-4021-ef48-a2891306c000"
      },
      "execution_count": 142,
      "outputs": [
        {
          "output_type": "stream",
          "name": "stdout",
          "text": [
            "Nepal is a landlocked South Asian country, famous for the Himalayas including Mount Everest. Kathmandu is the capital, known for heritage sites like Pashupatinath Temple and Boudhanath Stupa. Nepal transitioned to a federal democratic republic in 2008, and its economy relies on agriculture and tourism, recently there was protest so be safe\n",
            "Pros: Famous Himalayas including Mount Everest, rich cultural heritage sites, popular tourism destination, federal democratic republic  \n",
            "Cons: Landlocked, economy heavily reliant on agriculture and tourism, recent protests suggest possible instability\n"
          ]
        }
      ]
    },
    {
      "cell_type": "markdown",
      "source": [
        "**Playing with Vectors**"
      ],
      "metadata": {
        "id": "QYmTd8KWvG5f"
      }
    },
    {
      "cell_type": "code",
      "source": [
        "# !pip install -U sentence-transformers faiss-cpu\n",
        "\n",
        "from sentence_transformers import SentenceTransformer\n",
        "import numpy as np\n",
        "import faiss\n",
        "\n",
        "# Load a local embedding model (small + fast)\n",
        "model = SentenceTransformer(\"all-MiniLM-L6-v2\")  # 384-dim embeddings\n",
        "\n",
        "texts = [\n",
        "    \"Nepal is a landlocked South Asian country between India and China...\",\n",
        "    \"India, the world’s largest democracy, gained independence on 15 August 1947...\",\n",
        "    \"The United States of America (USA) consists of 50 states...\",\n",
        "    \"Canada is the second-largest country in the world by land area...\"\n",
        "]\n",
        "\n",
        "# Encode\n",
        "embs = model.encode(texts, convert_to_numpy=True, normalize_embeddings=True)\n",
        "\n",
        "# Build FAISS index\n",
        "index = faiss.IndexFlatIP(embs.shape[1])\n",
        "index.add(embs)\n",
        "\n",
        "# Query\n",
        "q_emb = model.encode([\"Is Kathmandu safe for travel?\"], convert_to_numpy=True, normalize_embeddings=True)\n",
        "scores, idxs = index.search(q_emb, k=2)\n",
        "\n",
        "for i in range(len(idxs[0])):\n",
        "    print(f\"Match {i+1}: {texts[idxs[0][i]]} (score={scores[0][i]:.3f})\")\n"
      ],
      "metadata": {
        "colab": {
          "base_uri": "https://localhost:8080/"
        },
        "id": "sCSFVCRmqq9b",
        "outputId": "3666ddc0-7c28-4a3d-c8a0-f082aa70aaea"
      },
      "execution_count": 140,
      "outputs": [
        {
          "output_type": "stream",
          "name": "stdout",
          "text": [
            "Match 1: Nepal is a landlocked South Asian country between India and China... (score=0.481)\n",
            "Match 2: India, the world’s largest democracy, gained independence on 15 August 1947... (score=0.140)\n"
          ]
        }
      ]
    },
    {
      "cell_type": "code",
      "source": [],
      "metadata": {
        "id": "DkU75Tkpqx24"
      },
      "execution_count": null,
      "outputs": []
    }
  ],
  "metadata": {
    "colab": {
      "provenance": [],
      "authorship_tag": "ABX9TyMUz2UP2+sz3I1qPZJY3ro5",
      "include_colab_link": true
    },
    "kernelspec": {
      "display_name": "Python 3",
      "name": "python3"
    },
    "language_info": {
      "name": "python"
    }
  },
  "nbformat": 4,
  "nbformat_minor": 0
}