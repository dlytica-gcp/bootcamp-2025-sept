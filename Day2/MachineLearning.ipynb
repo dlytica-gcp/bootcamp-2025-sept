{
  "nbformat": 4,
  "nbformat_minor": 0,
  "metadata": {
    "colab": {
      "provenance": [],
      "include_colab_link": true
    },
    "kernelspec": {
      "name": "python3",
      "display_name": "Python 3"
    },
    "language_info": {
      "name": "python"
    }
  },
  "cells": [
    {
      "cell_type": "markdown",
      "metadata": {
        "id": "view-in-github",
        "colab_type": "text"
      },
      "source": [
        "<a href=\"https://colab.research.google.com/github/dlytica-gcp/bootcamp-2025-sept/blob/main/MachineLearning.ipynb\" target=\"_parent\"><img src=\"https://colab.research.google.com/assets/colab-badge.svg\" alt=\"Open In Colab\"/></a>"
      ]
    },
    {
      "cell_type": "code",
      "source": [
        "import numpy as np\n",
        "import pandas as pd\n",
        "from pathlib import Path\n",
        "\n",
        "from sklearn.model_selection import train_test_split\n",
        "from sklearn.preprocessing import OneHotEncoder, StandardScaler\n",
        "from sklearn.compose import ColumnTransformer\n",
        "from sklearn.pipeline import Pipeline\n",
        "from sklearn.metrics import accuracy_score, roc_auc_score\n",
        "#step 1 model configuration\n",
        "#options: \"random_forst\", \"log_reg\", \"sdg_reg\", \"gradient_boosting\"\n",
        "model_name = \"sgd_log\"\n",
        "\n",
        "from sklearn.ensemble import RandomForestClassifier, GradientBoostingClassifier\n",
        "from sklearn.linear_model import LogisticRegression, SGDClassifier\n",
        "\n",
        "#step 2 model zoo\n",
        "MODEL_ZOO = {\n",
        "    \"random_forest\": RandomForestClassifier(n_estimators=200, random_state=42),\n",
        "    \"gradient_boosting\": GradientBoostingClassifier(random_state=42),\n",
        "    \"log_reg\": LogisticRegression(max_iter=1000, random_state=42),\n",
        "    \"sgd_log\": SGDClassifier(loss=\"log_loss\", max_iter=1000, random_state=42)\n",
        "}\n",
        "\n",
        "#step 3 load data\n",
        "DATA_DIR = Path(\"data\")\n",
        "df = pd.read_csv(DATA_DIR / \"customer_churn.csv\")\n",
        "\n",
        "X = df.drop(columns=[\"churn\"])\n",
        "y = df[\"churn\"]\n",
        "\n",
        "num_cols = X.select_dtypes(include=[\"number\",\"bool\"]).columns.tolist()\n",
        "cat_cols = X.select_dtypes(exclude=[\"number\",\"bool\"]).columns.tolist()\n",
        "\n",
        "#step 4 data preprocessing\n",
        "preproc = ColumnTransformer(\n",
        "    transformers=[\n",
        "        (\"num\", StandardScaler(with_mean=False), num_cols),\n",
        "        (\"cat\", OneHotEncoder(handle_unknown=\"ignore\"), cat_cols),\n",
        "    ],\n",
        "    remainder=\"drop\",\n",
        "    sparse_threshold=0.3,\n",
        "\n",
        ")\n",
        "\n",
        "#step 5 building the pipeline\n",
        "def build_pipeline(name: str) -> Pipeline:\n",
        "    assert name in MODEL_ZOO, f\"unknown model '{name}', options: {list(MODEL_ZOO)}\"\n",
        "    return Pipeline(steps=[(\"prep\", preproc), (\"clf\", MODEL_ZOO[name])])\n",
        "\n",
        "#step 6 train, evaluate and export\n",
        "def run(model_key=\"random_forest\", test_size=0.2, seed=42):\n",
        "  X_tr, X_te, y_tr, y_te = train_test_split(\n",
        "      X, y, test_size=test_size, random_state=seed, stratify=y\n",
        "  )\n",
        "\n",
        "  pipe = build_pipeline(model_key)\n",
        "  pipe.fit(X_tr, y_tr)\n",
        "\n",
        "  if hasattr(pipe.named_steps[\"clf\"], \"predict_proba\"):\n",
        "    prob = pipe.predict_proba(X_te)[:, 1]\n",
        "  else:\n",
        "    scores = pipe.decision_function(y_te, pred)\n",
        "    prob = 1 / (1 + np.exp(-scores))\n",
        "\n",
        "  pred = (prob >= 0.5).astype(int)\n",
        "  acc = accuracy_score(y_te, pred)\n",
        "  auc = roc_auc_score(y_te, prob)\n",
        "\n",
        "  print(f\"Model: {model_key}\")\n",
        "  print(f\"Accuracy: {acc:.3f} | ROC_AUC: {auc:.3f}\")\n",
        "\n",
        "  out = X_te.copy()\n",
        "  out[\"churn_actual\"] = y_te.values\n",
        "  out[\"prob\"] = prob\n",
        "  out[\"predicted\"] = pred\n",
        "  out.to_csv(DATA_DIR / \"churn_scored.csv\", index=False)\n",
        "  print(\"saved:\", DATA_DIR / \"churn_scored.csv\")\n",
        "\n",
        "\n",
        "run(model_name)"
      ],
      "metadata": {
        "colab": {
          "base_uri": "https://localhost:8080/"
        },
        "id": "rx9sss5c6m_5",
        "outputId": "e5fefd58-6c97-417f-9d48-6ca19d85c2ee"
      },
      "execution_count": null,
      "outputs": [
        {
          "output_type": "stream",
          "name": "stdout",
          "text": [
            "Model: sgd_log\n",
            "Accuracy: 0.819 | ROC_AUC: 0.734\n",
            "saved: data/churn_scored.csv\n"
          ]
        }
      ]
    }
  ]
}