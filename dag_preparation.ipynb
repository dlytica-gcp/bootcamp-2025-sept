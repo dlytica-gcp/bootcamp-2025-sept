{
 "cells": [
  {
   "cell_type": "code",
   "execution_count": 1,
   "id": "2b0e1720",
   "metadata": {},
   "outputs": [
    {
     "name": "stderr",
     "output_type": "stream",
     "text": [
      "/Users/sudipshrestha/Library/Python/3.9/lib/python/site-packages/urllib3/__init__.py:35: NotOpenSSLWarning: urllib3 v2 only supports OpenSSL 1.1.1+, currently the 'ssl' module is compiled with 'LibreSSL 2.8.3'. See: https://github.com/urllib3/urllib3/issues/3020\n",
      "  warnings.warn(\n"
     ]
    },
    {
     "data": {
      "text/plain": [
       "<requests.sessions.Session at 0x1087bb0a0>"
      ]
     },
     "execution_count": 1,
     "metadata": {},
     "output_type": "execute_result"
    }
   ],
   "source": [
    "import requests\n",
    "import time\n",
    "import urllib3\n",
    "\n",
    "urllib3.disable_warnings(urllib3.exceptions.InsecureRequestWarning)\n",
    "\n",
    "# Configs\n",
    "NIFI_PG_IDS = {\n",
    "    \"pg\": \"134eb35b-0199-1000-9b35-a2b3144a420e\",\n",
    "}\n",
    "NIFI_BASE_URL = \"https://localhost:8443\"\n",
    "REQUESTS_VERIFY = False  # use \"/etc/ssl/certs/nifi-ca.pem\" if mounted\n",
    "\n",
    "STOP_AFTER_FLOWFILES = 100\n",
    "MAX_RUN_SECONDS = 10\n",
    "STATUS_POLL_SECONDS = 5\n",
    "\n",
    "\n",
    "def get_nifi_session():\n",
    "    s = requests.Session()\n",
    "    s.verify = REQUESTS_VERIFY\n",
    "    s.headers.update({\"User-Agent\": \"Notebook-NiFi-Client/1.0\"})\n",
    "    return s\n",
    "get_nifi_session()"
   ]
  },
  {
   "cell_type": "code",
   "execution_count": 2,
   "id": "93045580",
   "metadata": {},
   "outputs": [
    {
     "name": "stdout",
     "output_type": "stream",
     "text": [
      "✅ NiFi is up (status=401)\n"
     ]
    },
    {
     "data": {
      "text/plain": [
       "True"
      ]
     },
     "execution_count": 2,
     "metadata": {},
     "output_type": "execute_result"
    }
   ],
   "source": [
    "def wait_until_ready(base_url: str, timeout_sec=60):\n",
    "    s = get_nifi_session()\n",
    "    start = time.time()\n",
    "    while time.time() - start < timeout_sec:\n",
    "        try:\n",
    "            r = s.get(f\"{base_url}/nifi-api/system-diagnostics\", timeout=8)\n",
    "            if r.status_code in (200, 401, 403):\n",
    "                print(f\"✅ NiFi is up (status={r.status_code})\")\n",
    "                return True\n",
    "            else:\n",
    "                print(f\"⏳ NiFi not ready yet (status={r.status_code})\")\n",
    "        except Exception as e:\n",
    "            print(f\"❌ NiFi not ready yet: {e}\")\n",
    "        time.sleep(3)\n",
    "    raise RuntimeError(\"NiFi did not become ready in time\")\n",
    "\n",
    "# Run\n",
    "wait_until_ready(NIFI_BASE_URL)\n"
   ]
  },
  {
   "cell_type": "code",
   "execution_count": 4,
   "id": "d748c12e",
   "metadata": {},
   "outputs": [
    {
     "name": "stdout",
     "output_type": "stream",
     "text": [
      "✅ NiFi is up (status=401)\n",
      "[Attempt 1] Getting token from https://localhost:8443\n",
      "✅ Got token (len=438)\n"
     ]
    }
   ],
   "source": [
    "def get_nifi_access_token(username: str, password: str):\n",
    "    wait_until_ready(NIFI_BASE_URL, timeout_sec=60)\n",
    "    session = get_nifi_session()\n",
    "\n",
    "    attempts, backoff = 5, 2\n",
    "    for i in range(1, attempts + 1):\n",
    "        try:\n",
    "            print(f\"[Attempt {i}] Getting token from {NIFI_BASE_URL}\")\n",
    "            r = session.post(\n",
    "                f\"{NIFI_BASE_URL}/nifi-api/access/token\",\n",
    "                data={\"username\": username, \"password\": password},\n",
    "                headers={\"Content-Type\": \"application/x-www-form-urlencoded\"},\n",
    "                timeout=30,\n",
    "            )\n",
    "            if r.status_code in (200, 201):\n",
    "                token = r.text.strip()\n",
    "                print(f\"✅ Got token (len={len(token)})\")\n",
    "                return token\n",
    "            else:\n",
    "                print(f\"❌ Token retrieval failed: {r.status_code} - {r.text}\")\n",
    "        except Exception as e:\n",
    "            print(f\"⚠️ Token request error: {e}\")\n",
    "\n",
    "        time.sleep(backoff ** i)\n",
    "\n",
    "    raise Exception(\"Failed to obtain NiFi access token after retries\")\n",
    "\n",
    "# Run (replace with real credentials)\n",
    "TOKEN = get_nifi_access_token(\"nifi\", \"nifi12345678\")\n"
   ]
  },
  {
   "cell_type": "code",
   "execution_count": 5,
   "id": "a48c10ca",
   "metadata": {},
   "outputs": [
    {
     "name": "stdout",
     "output_type": "stream",
     "text": [
      "Start flow status: 200, body: {\"id\":\"134eb35b-0199-1000-9b35-a2b3144a420e\",\"state\":\"RUNNING\"}\n"
     ]
    },
    {
     "data": {
      "text/plain": [
       "{'status': 'success', 'pg_id': '134eb35b-0199-1000-9b35-a2b3144a420e'}"
      ]
     },
     "execution_count": 5,
     "metadata": {},
     "output_type": "execute_result"
    }
   ],
   "source": [
    "def start_nifi_flow(token: str):\n",
    "    pg_id = list(NIFI_PG_IDS.values())[0]\n",
    "    session = get_nifi_session()\n",
    "    r = session.put(\n",
    "        f\"{NIFI_BASE_URL}/nifi-api/flow/process-groups/{pg_id}\",\n",
    "        headers={\"Authorization\": f\"Bearer {token}\", \"Content-Type\": \"application/json\"},\n",
    "        json={\"id\": pg_id, \"state\": \"RUNNING\"},\n",
    "        timeout=30,\n",
    "    )\n",
    "    print(f\"Start flow status: {r.status_code}, body: {r.text}\")\n",
    "    if r.status_code not in (200, 201):\n",
    "        raise Exception(\"Start flow failed\")\n",
    "    return {\"status\": \"success\", \"pg_id\": pg_id}\n",
    "\n",
    "# Run\n",
    "start_nifi_flow(TOKEN)\n"
   ]
  },
  {
   "cell_type": "code",
   "execution_count": 6,
   "id": "25511171",
   "metadata": {},
   "outputs": [
    {
     "name": "stdout",
     "output_type": "stream",
     "text": [
      "[0s] queued=100, out_total=0, out_new=0\n",
      "[5s] queued=100, out_total=0, out_new=0\n",
      "[10s] queued=100, out_total=0, out_new=0\n"
     ]
    },
    {
     "data": {
      "text/plain": [
       "{'status': 'completed-by-time', 'produced': 0}"
      ]
     },
     "execution_count": 6,
     "metadata": {},
     "output_type": "execute_result"
    }
   ],
   "source": [
    "def wait_for_nifi_flow_completion(token: str):\n",
    "    pg_id = list(NIFI_PG_IDS.values())[0]\n",
    "    session = get_nifi_session()\n",
    "\n",
    "    start_ts = time.time()\n",
    "    baseline_out = None\n",
    "    last_out = 0\n",
    "\n",
    "    while True:\n",
    "        r = session.get(\n",
    "            f\"{NIFI_BASE_URL}/nifi-api/flow/process-groups/{pg_id}/status\",\n",
    "            headers={\"Authorization\": f\"Bearer {token}\"},\n",
    "            timeout=30,\n",
    "        )\n",
    "        snap = r.json().get(\"processGroupStatus\", {}).get(\"aggregateSnapshot\", {})\n",
    "\n",
    "        flowfiles_out = int(snap.get(\"flowFilesOut\", 0))\n",
    "        flowfiles_queued = int(snap.get(\"flowFilesQueued\", 0))\n",
    "\n",
    "        if baseline_out is None:\n",
    "            baseline_out = flowfiles_out\n",
    "\n",
    "        produced_now = flowfiles_out - baseline_out\n",
    "        elapsed = int(time.time() - start_ts)\n",
    "\n",
    "        print(f\"[{elapsed}s] queued={flowfiles_queued}, out_total={flowfiles_out}, out_new={produced_now}\")\n",
    "\n",
    "        if produced_now >= STOP_AFTER_FLOWFILES:\n",
    "            return {\"status\": \"completed-by-count\", \"produced\": produced_now}\n",
    "        if elapsed >= MAX_RUN_SECONDS:\n",
    "            return {\"status\": \"completed-by-time\", \"produced\": produced_now}\n",
    "        if flowfiles_queued == 0 and produced_now == last_out and produced_now > 0:\n",
    "            return {\"status\": \"completed-by-idle\", \"produced\": produced_now}\n",
    "\n",
    "        last_out = produced_now\n",
    "        time.sleep(STATUS_POLL_SECONDS)\n",
    "\n",
    "# Run\n",
    "wait_for_nifi_flow_completion(TOKEN)\n"
   ]
  },
  {
   "cell_type": "code",
   "execution_count": 7,
   "id": "8ffc2846",
   "metadata": {},
   "outputs": [
    {
     "name": "stdout",
     "output_type": "stream",
     "text": [
      "Stop flow status: 200, body: {\"id\":\"134eb35b-0199-1000-9b35-a2b3144a420e\",\"state\":\"STOPPED\"}\n"
     ]
    },
    {
     "data": {
      "text/plain": [
       "{'status': 'stopped'}"
      ]
     },
     "execution_count": 7,
     "metadata": {},
     "output_type": "execute_result"
    }
   ],
   "source": [
    "def stop_nifi_flow(token: str):\n",
    "    pg_id = list(NIFI_PG_IDS.values())[0]\n",
    "    session = get_nifi_session()\n",
    "    r = session.put(\n",
    "        f\"{NIFI_BASE_URL}/nifi-api/flow/process-groups/{pg_id}\",\n",
    "        headers={\"Authorization\": f\"Bearer {token}\", \"Content-Type\": \"application/json\"},\n",
    "        json={\"id\": pg_id, \"state\": \"STOPPED\"},\n",
    "        timeout=30,\n",
    "    )\n",
    "    print(f\"Stop flow status: {r.status_code}, body: {r.text}\")\n",
    "    return {\"status\": \"stopped\" if r.status_code in (200, 201) else \"failed\"}\n",
    "\n",
    "# Run\n",
    "stop_nifi_flow(TOKEN)\n"
   ]
  },
  {
   "cell_type": "code",
   "execution_count": 8,
   "id": "031fcc0a",
   "metadata": {},
   "outputs": [
    {
     "name": "stdout",
     "output_type": "stream",
     "text": [
      "[purge bfa70522-6681-3792-0b14-7243661bef82] dropped=0, finished=True\n",
      "[purge a49dbb03-11a8-3faa-e763-8fa1ee062e68] dropped=0, finished=True\n",
      "[purge ae6c9a2e-4e23-3cc0-701d-a3337ff3bea4] dropped=0, finished=True\n",
      "[purge 03f95a6c-e694-357b-0f96-ce91f57240f6] dropped=1, finished=True\n",
      "[purge e81cfcc9-355c-309a-1dde-41824f03d591] dropped=0, finished=True\n",
      "[purge 32599c19-14fe-31f4-a7dd-75fe26c7b063] dropped=0, finished=True\n",
      "[purge 88e00738-a0d6-316a-d9d9-354cd28bad17] dropped=1, finished=True\n",
      "[purge 557c2f38-7bdc-39e2-c0b0-3880327f113c] dropped=99, finished=True\n",
      "✅ All queues purged.\n"
     ]
    },
    {
     "data": {
      "text/plain": [
       "{'status': 'purged', 'connections': 8}"
      ]
     },
     "execution_count": 8,
     "metadata": {},
     "output_type": "execute_result"
    }
   ],
   "source": [
    "def purge_nifi_queues(token: str):\n",
    "    pg_id = list(NIFI_PG_IDS.values())[0]\n",
    "    session = get_nifi_session()\n",
    "\n",
    "    # Get all connections\n",
    "    r = session.get(\n",
    "        f\"{NIFI_BASE_URL}/nifi-api/process-groups/{pg_id}/connections\",\n",
    "        headers={\"Authorization\": f\"Bearer {token}\"},\n",
    "        timeout=30,\n",
    "    )\n",
    "    connections = [c[\"id\"] for c in r.json().get(\"connections\", [])]\n",
    "\n",
    "    for cid in connections:\n",
    "        dr = session.post(\n",
    "            f\"{NIFI_BASE_URL}/nifi-api/flowfile-queues/{cid}/drop-requests\",\n",
    "            headers={\"Authorization\": f\"Bearer {token}\"},\n",
    "        ).json()\n",
    "        dr_id = dr[\"dropRequest\"][\"id\"]\n",
    "\n",
    "        # Poll until finished\n",
    "        while True:\n",
    "            resp = session.get(\n",
    "                f\"{NIFI_BASE_URL}/nifi-api/flowfile-queues/{cid}/drop-requests/{dr_id}\",\n",
    "                headers={\"Authorization\": f\"Bearer {token}\"},\n",
    "            ).json()[\"dropRequest\"]\n",
    "\n",
    "            print(f\"[purge {cid}] dropped={resp.get('droppedCount')}, finished={resp.get('finished')}\")\n",
    "            if resp.get(\"finished\"):\n",
    "                break\n",
    "            time.sleep(2)\n",
    "\n",
    "    print(\"✅ All queues purged.\")\n",
    "    return {\"status\": \"purged\", \"connections\": len(connections)}\n",
    "\n",
    "# Run\n",
    "purge_nifi_queues(TOKEN)\n"
   ]
  },
  {
   "cell_type": "code",
   "execution_count": null,
   "id": "98591d28",
   "metadata": {},
   "outputs": [],
   "source": []
  }
 ],
 "metadata": {
  "kernelspec": {
   "display_name": "Python 3",
   "language": "python",
   "name": "python3"
  },
  "language_info": {
   "codemirror_mode": {
    "name": "ipython",
    "version": 3
   },
   "file_extension": ".py",
   "mimetype": "text/x-python",
   "name": "python",
   "nbconvert_exporter": "python",
   "pygments_lexer": "ipython3",
   "version": "3.9.6"
  }
 },
 "nbformat": 4,
 "nbformat_minor": 5
}
